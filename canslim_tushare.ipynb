{
 "cells": [
  {
   "cell_type": "code",
   "execution_count": 1,
   "metadata": {},
   "outputs": [],
   "source": [
    "from datetime import *\n",
    "from dateutil.relativedelta import relativedelta\n",
    "import pandas as pd\n",
    "import tushare as ts\n",
    "from math import *\n",
    "import statsmodels.api as sm\n",
    "from collections import OrderedDict #保持Key的顺序\n",
    "import matplotlib.pyplot as plt\n",
    "import seaborn as sns\n",
    "from time import sleep\n",
    "sns.set_style('whitegrid')"
   ]
  },
  {
   "cell_type": "code",
   "execution_count": 2,
   "metadata": {},
   "outputs": [],
   "source": [
    "token='ec42e45eba5526cd886eec58e37f084fc9373e353ba829132a23a456'\n",
    "pro = ts.pro_api(token)#初始化pro接口"
   ]
  },
  {
   "cell_type": "code",
   "execution_count": 3,
   "metadata": {},
   "outputs": [],
   "source": [
    "def remove_st_stock():\n",
    "    df = pro.query('stock_basic', exchange='', list_status='L', fields='ts_code,symbol,name,area,industry,list_date')\n",
    "    df=df[~df.name.str.contains('ST')]\n",
    "    df['list_date'] = pd.to_datetime(df['list_date']).dt.date#,format='%Y%m%d'\n",
    "    return df"
   ]
  },
  {
   "cell_type": "code",
   "execution_count": 4,
   "metadata": {},
   "outputs": [],
   "source": [
    "def get_day_offset_stock(context, start_day, day_offset):\n",
    "    offset = start_day - relativedelta(months=day_offset)\n",
    "    context = context[context['list_date'] <= offset]\n",
    "    return context"
   ]
  },
  {
   "cell_type": "code",
   "execution_count": 12,
   "metadata": {},
   "outputs": [],
   "source": [
    "#获取当前时点的股票\n",
    "def get_stocks(trDate):\n",
    "    A_stocks=remove_st_stock() #提取非ST，非PT的全部A股\n",
    "    status=get_day_offset_stock(A_stocks, trDate, 1) #提取股票的交易状态和首发上市日期\n",
    "    trade_codes=status['ts_code'] #选取交易且上市时间超过30天的股票,并将index转换成list格式\n",
    "    return trade_codes"
   ]
  },
  {
   "cell_type": "code",
   "execution_count": 6,
   "metadata": {},
   "outputs": [],
   "source": [
    "##测试区间：2005年1月1日至2017年12月31日，取每月月初的开盘价和每月月末的收盘价 \n",
    "def get_beg_end_month(beg_date,end_date):\n",
    "    month_beg_add=w.tdaysoffset(-1,beg_date,\"Period=M\").Data[0][0].strftime(\"%Y-%m-%d\") #将首月往前推一个月,再取该日对应的月末日期，再往后推一日记得到首月的月初日期\n",
    "    month_ends=w.tdays(month_beg_add,end_date, \"Period=M\").Data[0] \n",
    "    month_ends= [dt.strftime(\"%Y-%m-%d\") for dt in month_ends]  #获取每月最后一个交易日\n",
    "    dates=month_ends[1:]   #提取股票时间,即测试区间内每月月末交易日对应的股票,该日期也为测试区间的每月月末交易日\n",
    "    month_begs=[w.tdaysoffset(1,i,\"\").Data[0][0].strftime(\"%Y-%m-%d\") for i in month_ends][:-1] #将月末交易日往后推一日，得到下一个月月初交易日\n",
    "    return month_begs,dates"
   ]
  },
  {
   "cell_type": "code",
   "execution_count": 16,
   "metadata": {},
   "outputs": [],
   "source": [
    "#获取月初开盘价和月末收盘价\n",
    "def get_price(stock_list, month_begs,month_ends):\n",
    "    dict_df = OrderedDict()\n",
    "    df = pd.DataFrame()\n",
    "    count = 0\n",
    "    for stock in stock_list:\n",
    "        count +=1\n",
    "        if(count == 120):\n",
    "            sleep(60)\n",
    "            count = 0\n",
    "        else:\n",
    "            info = pro.monthly(ts_code=stock, start_date=month_begs, end_date=month_ends, fields='trade_date, ts_code,open,close')\n",
    "            df=df.append(info)#获取每月月初月末的收盘价\n",
    "    print(df)\n",
    "    #dict_df[date] = df  #将得到的每一期的开盘价和收盘价，以时间为键，以价格为值，有序存入dict_df字典中\n",
    "    price= df.groupby(df['trade_date'])   #将字典对应的多个列表合并为一个列表\n",
    "    \n",
    "    return price"
   ]
  },
  {
   "cell_type": "code",
   "execution_count": 17,
   "metadata": {},
   "outputs": [
    {
     "name": "stdout",
     "output_type": "stream",
     "text": [
      "      ts_code trade_date  close   open\n",
      "0   000001.SZ   20191231  16.45  15.35\n",
      "1   000001.SZ   20191129  15.29  16.35\n",
      "2   000001.SZ   20191031  16.26  15.60\n",
      "3   000001.SZ   20190930  15.59  14.15\n",
      "4   000001.SZ   20190830  14.16  14.06\n",
      "..        ...        ...    ...    ...\n",
      "4   688388.SH   20190830  57.62  65.10\n",
      "5   688388.SH   20190731  65.86  66.00\n",
      "0   688389.SH   20191231  16.42  16.53\n",
      "1   688389.SH   20191129  16.34  22.00\n",
      "0   688399.SH   20191231  57.90  52.33\n",
      "\n",
      "[291070 rows x 4 columns]\n"
     ]
    },
    {
     "data": {
      "text/plain": [
       "<pandas.core.groupby.generic.DataFrameGroupBy object at 0x000001665CF314A8>"
      ]
     },
     "execution_count": 17,
     "metadata": {},
     "output_type": "execute_result"
    }
   ],
   "source": [
    "stock_list = get_stocks(datetime.today().date())\n",
    "get_price(stock_list, '20100101','20200101')"
   ]
  },
  {
   "cell_type": "code",
   "execution_count": null,
   "metadata": {},
   "outputs": [],
   "source": [
    "stock_list.head()"
   ]
  },
  {
   "cell_type": "code",
   "execution_count": 9,
   "metadata": {},
   "outputs": [
    {
     "data": {
      "text/html": [
       "<div>\n",
       "<style scoped>\n",
       "    .dataframe tbody tr th:only-of-type {\n",
       "        vertical-align: middle;\n",
       "    }\n",
       "\n",
       "    .dataframe tbody tr th {\n",
       "        vertical-align: top;\n",
       "    }\n",
       "\n",
       "    .dataframe thead th {\n",
       "        text-align: right;\n",
       "    }\n",
       "</style>\n",
       "<table border=\"1\" class=\"dataframe\">\n",
       "  <thead>\n",
       "    <tr style=\"text-align: right;\">\n",
       "      <th></th>\n",
       "      <th>ts_code</th>\n",
       "      <th>trade_date</th>\n",
       "      <th>close</th>\n",
       "      <th>open</th>\n",
       "    </tr>\n",
       "  </thead>\n",
       "  <tbody>\n",
       "  </tbody>\n",
       "</table>\n",
       "</div>"
      ],
      "text/plain": [
       "Empty DataFrame\n",
       "Columns: [ts_code, trade_date, close, open]\n",
       "Index: []"
      ]
     },
     "execution_count": 9,
     "metadata": {},
     "output_type": "execute_result"
    }
   ],
   "source": [
    "pro.monthly(ts_code=stock_list[0], start_date='20100101', end_date='20200101', fields='trade_date, ts_code,open,close')"
   ]
  },
  {
   "cell_type": "code",
   "execution_count": null,
   "metadata": {},
   "outputs": [],
   "source": []
  }
 ],
 "metadata": {
  "kernelspec": {
   "display_name": "Python 3",
   "language": "python",
   "name": "python3"
  },
  "language_info": {
   "codemirror_mode": {
    "name": "ipython",
    "version": 3
   },
   "file_extension": ".py",
   "mimetype": "text/x-python",
   "name": "python",
   "nbconvert_exporter": "python",
   "pygments_lexer": "ipython3",
   "version": "3.7.3"
  }
 },
 "nbformat": 4,
 "nbformat_minor": 4
}
